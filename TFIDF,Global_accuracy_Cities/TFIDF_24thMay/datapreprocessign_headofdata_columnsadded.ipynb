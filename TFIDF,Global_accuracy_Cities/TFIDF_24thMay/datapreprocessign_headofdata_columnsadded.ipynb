{
 "cells": [
  {
   "cell_type": "code",
   "execution_count": 1,
   "id": "42d862c2",
   "metadata": {},
   "outputs": [
    {
     "name": "stdout",
     "output_type": "stream",
     "text": [
      "Requirement already satisfied: nltk in /opt/anaconda3/lib/python3.8/site-packages (3.6.1)\n",
      "Requirement already satisfied: joblib in /opt/anaconda3/lib/python3.8/site-packages (from nltk) (1.0.1)\n",
      "Requirement already satisfied: regex in /opt/anaconda3/lib/python3.8/site-packages (from nltk) (2021.4.4)\n",
      "Requirement already satisfied: tqdm in /opt/anaconda3/lib/python3.8/site-packages (from nltk) (4.64.0)\n",
      "Requirement already satisfied: click in /opt/anaconda3/lib/python3.8/site-packages (from nltk) (7.1.2)\n",
      "Note: you may need to restart the kernel to use updated packages.\n"
     ]
    }
   ],
   "source": [
    "pip install nltk"
   ]
  },
  {
   "cell_type": "code",
   "execution_count": 2,
   "id": "feba2cbb",
   "metadata": {},
   "outputs": [
    {
     "name": "stderr",
     "output_type": "stream",
     "text": [
      "[nltk_data] Downloading package punkt to\n",
      "[nltk_data]     /Users/abhishektiwari/nltk_data...\n",
      "[nltk_data]   Package punkt is already up-to-date!\n"
     ]
    },
    {
     "data": {
      "text/plain": [
       "True"
      ]
     },
     "execution_count": 2,
     "metadata": {},
     "output_type": "execute_result"
    }
   ],
   "source": [
    "import nltk\n",
    "nltk.download('punkt')"
   ]
  },
  {
   "cell_type": "code",
   "execution_count": 3,
   "id": "69a90330",
   "metadata": {},
   "outputs": [],
   "source": [
    "import re\n",
    "import pandas as pd\n",
    "import numpy as np\n",
    "from nltk.tokenize import  word_tokenize "
   ]
  },
  {
   "cell_type": "code",
   "execution_count": 5,
   "id": "31cb946b",
   "metadata": {},
   "outputs": [],
   "source": [
    "datatoclean = pd.read_csv(f'tf_idf_dataset.csv')\n"
   ]
  },
  {
   "cell_type": "code",
   "execution_count": 6,
   "id": "5438506b",
   "metadata": {},
   "outputs": [],
   "source": [
    "#datatoclean.info()\n",
    "#datatoclean\n",
    "def clean_data(text):\n",
    "  #text = text.lower()\n",
    "  text = re.sub(\"_\",\" \",text)\n",
    "  text = re.sub(\"@[A-Za-z0-9_]+\",\"\", text) #mentions\n",
    "  text = re.sub(\"#[A-Za-z0-9_]+\",\"\", text) #hashtags\n",
    "  text = re.sub(r\"https?:\\/\\/\\S+\", \"\", text) #links\n",
    "  text = re.sub(r\"www.\\S+\", \"\", text) #links\n",
    "  text = re.sub(r\"RT[\\s]+\",\"\",text) #Retweets\n",
    "  text = re.sub('[()!?]', ' ', text) #punctuations\n",
    "  text = re.sub('\\[.*?\\]',' ', text)\n",
    "  text = re.sub(\"[0-9_]+\",\"\",text) #numbers\n",
    "  text = re.sub(\"\\n\",\"\",text) #spacing\n",
    "  text = re.sub(r'\\b\\w{1,3}\\b', '', text);\n",
    "  text = re.sub(r'^\\s+\", \"', \"a\\n b\\n c\", text)\n",
    "  punctuations = '@#!?+&*,[]-%.:/();$=><|{}^»«\"\"'\n",
    "  for p in punctuations:\n",
    "      text = text.replace(p, '')\n",
    "  text = text.replace(\"\\\\\",\" \")\n",
    "  text = text.replace(\"'\",\" \") #apostrophe\n",
    "  text = text.replace(\"’\",\" \") #apostrophe\n",
    "  return text"
   ]
  },
  {
   "cell_type": "code",
   "execution_count": 7,
   "id": "f15ae4bf",
   "metadata": {},
   "outputs": [],
   "source": [
    "datatoclean[\"product_name\"] = datatoclean[\"product_name\"].apply(lambda x: clean_data(x.strip()))"
   ]
  },
  {
   "cell_type": "code",
   "execution_count": 8,
   "id": "cb33e1ec",
   "metadata": {},
   "outputs": [],
   "source": [
    "#Example text corpus for our tutorial\n",
    "text = datatoclean[\"product_name\"]\n",
    " \n",
    "#Preprocessing the text data\n",
    "sentences = []\n",
    "word_set = []\n",
    " \n",
    "for sent in text:\n",
    "    x = [i.lower() for  i in word_tokenize(sent) if i.isalpha()]\n",
    "    sentences.append(x)\n",
    "    for word in x:\n",
    "        if word not in word_set:\n",
    "            word_set.append(word)\n",
    " \n",
    "#Set of vocab \n",
    "word_set = set(word_set)\n",
    "#Total documents in our corpus\n",
    "total_documents = len(sentences)\n",
    " \n",
    "#Creating an index for each word in our vocab.\n",
    "index_dict = {} #Dictionary to store index for each word\n",
    "i = 0\n",
    "for word in word_set:\n",
    "    index_dict[word] = i\n",
    "    i += 1"
   ]
  },
  {
   "cell_type": "code",
   "execution_count": 9,
   "id": "dc88b40a",
   "metadata": {},
   "outputs": [],
   "source": [
    "#Create a count dictionary\n",
    " \n",
    "def count_dict(sentences):\n",
    "    word_count = {}\n",
    "    for word in word_set:\n",
    "        word_count[word] = 0\n",
    "        for sent in sentences:\n",
    "            if word in sent:\n",
    "                word_count[word] += 1\n",
    "    return word_count\n",
    " \n",
    "word_count = count_dict(sentences)"
   ]
  },
  {
   "cell_type": "code",
   "execution_count": 10,
   "id": "b8dc1dc9",
   "metadata": {},
   "outputs": [],
   "source": [
    "#Term Frequency\n",
    "def termfreq(document, word):\n",
    "    N = len(document)\n",
    "    occurance = len([token for token in document if token == word])\n",
    "    return occurance/N"
   ]
  },
  {
   "cell_type": "code",
   "execution_count": 11,
   "id": "b74687bb",
   "metadata": {},
   "outputs": [],
   "source": [
    "#Inverse Document Frequency\n",
    " \n",
    "def inverse_doc_freq(word):\n",
    "    try:\n",
    "        word_occurance = word_count[word]\n",
    "    except:\n",
    "        word_occurance = 1\n",
    "    return np.log(total_documents/word_occurance)"
   ]
  },
  {
   "cell_type": "code",
   "execution_count": 12,
   "id": "27a0d49b",
   "metadata": {},
   "outputs": [],
   "source": [
    "def tf_idf(sentence):\n",
    "    tf_idf_vec = np.zeros((len(word_set),))\n",
    "    for word in sentence:\n",
    "        tf = termfreq(sentence,word)\n",
    "        idf = inverse_doc_freq(word)\n",
    "         \n",
    "        value = tf*idf\n",
    "        tf_idf_vec[index_dict[word]] = value\n",
    "    return tf_idf_vec"
   ]
  },
  {
   "cell_type": "code",
   "execution_count": 13,
   "id": "3766a3b8",
   "metadata": {},
   "outputs": [],
   "source": [
    "vectors = []\n",
    "for sent in sentences:\n",
    "    vec = tf_idf(sent)\n",
    "    vectors.append(vec)\n",
    " \n",
    "#print(vectors)"
   ]
  },
  {
   "cell_type": "code",
   "execution_count": 14,
   "id": "64ca091a",
   "metadata": {},
   "outputs": [],
   "source": [
    "vector_scratch = np.array(vectors)"
   ]
  },
  {
   "cell_type": "code",
   "execution_count": 15,
   "id": "aaf8c148",
   "metadata": {},
   "outputs": [],
   "source": [
    "#to compare with the scikit learn vectorizer\n",
    "from sklearn.feature_extraction.text import TfidfVectorizer\n",
    "vectorizer = TfidfVectorizer(use_idf=True)\n",
    "X = vectorizer.fit_transform(text)"
   ]
  },
  {
   "cell_type": "code",
   "execution_count": 16,
   "id": "62f70dc0",
   "metadata": {},
   "outputs": [
    {
     "data": {
      "text/plain": [
       "matrix([[0.        , 0.        , 0.        , ..., 0.331396  , 0.        ,\n",
       "         0.        ],\n",
       "        [0.        , 0.        , 0.26699553, ..., 0.        , 0.        ,\n",
       "         0.        ],\n",
       "        [0.        , 0.        , 0.        , ..., 0.        , 0.        ,\n",
       "         0.        ],\n",
       "        ...,\n",
       "        [0.        , 0.        , 0.        , ..., 0.        , 0.        ,\n",
       "         0.        ],\n",
       "        [0.        , 0.        , 0.        , ..., 0.        , 0.        ,\n",
       "         0.        ],\n",
       "        [0.        , 0.        , 0.        , ..., 0.        , 0.        ,\n",
       "         0.48866328]])"
      ]
     },
     "execution_count": 16,
     "metadata": {},
     "output_type": "execute_result"
    }
   ],
   "source": [
    "X.todense()"
   ]
  },
  {
   "cell_type": "code",
   "execution_count": 17,
   "id": "c15c7604",
   "metadata": {},
   "outputs": [
    {
     "data": {
      "text/plain": [
       "array([[0., 0., 0., ..., 0., 0., 0.],\n",
       "       [0., 0., 0., ..., 0., 0., 0.],\n",
       "       [0., 0., 0., ..., 0., 0., 0.],\n",
       "       ...,\n",
       "       [0., 0., 0., ..., 0., 0., 0.],\n",
       "       [0., 0., 0., ..., 0., 0., 0.],\n",
       "       [0., 0., 0., ..., 0., 0., 0.]])"
      ]
     },
     "execution_count": 17,
     "metadata": {},
     "output_type": "execute_result"
    }
   ],
   "source": [
    "vector_scratch = np.array(vectors)\n",
    "vector_scratch"
   ]
  },
  {
   "cell_type": "code",
   "execution_count": 18,
   "id": "54672af4",
   "metadata": {},
   "outputs": [],
   "source": [
    "#adding headers\n",
    "result = pd.DataFrame(vector_scratch)\n",
    "result.columns = word_set"
   ]
  },
  {
   "cell_type": "code",
   "execution_count": 50,
   "id": "cd856377",
   "metadata": {},
   "outputs": [],
   "source": [
    "np.savetxt(\"vectornltk.csv\",vector_scratch,delimiter=\",\")"
   ]
  },
  {
   "cell_type": "code",
   "execution_count": 20,
   "id": "c98933a1",
   "metadata": {},
   "outputs": [],
   "source": [
    "np.savetxt(\"vector.csv\",result,delimiter=\",\") "
   ]
  }
 ],
 "metadata": {
  "kernelspec": {
   "display_name": "Python 3 (ipykernel)",
   "language": "python",
   "name": "python3"
  },
  "language_info": {
   "codemirror_mode": {
    "name": "ipython",
    "version": 3
   },
   "file_extension": ".py",
   "mimetype": "text/x-python",
   "name": "python",
   "nbconvert_exporter": "python",
   "pygments_lexer": "ipython3",
   "version": "3.8.8"
  }
 },
 "nbformat": 4,
 "nbformat_minor": 5
}
